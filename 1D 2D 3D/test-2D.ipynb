{
 "cells": [
  {
   "cell_type": "code",
   "execution_count": 13,
   "metadata": {},
   "outputs": [
    {
     "name": "stdout",
     "output_type": "stream",
     "text": [
      "[[ 0  1  2  3  4  5  6]\n",
      " [ 7  8  9 10 11 12 13]\n",
      " [14 15 16 17 18 19 20]\n",
      " [21 22 23 24 25 26 27]\n",
      " [28 29 30 31 32 33 34]\n",
      " [35 36 37 38 39 40 41]]\n",
      "[0 1 2 3 4 5 6]\n",
      "------------- returning column values into one dmentsional array -------------\n",
      "[ 0  7 14 21 28 35]\n",
      "[ 3 10 17 24 31 38]\n",
      "------------- returning single cell value  -------------\n",
      "17\n",
      "------------- Get first three elements of 4th column  -------------\n",
      "[ 3 10 17]\n",
      "[ 3 10 17]\n",
      "------------- Get a portion of the elements from selctive columns and rows from the matrix  -------------\n",
      "[[ 7  8]\n",
      " [14 15]\n",
      " [21 22]]\n",
      "[[ 7  8]\n",
      " [14 15]\n",
      " [21 22]]\n",
      "[[16 17 18]\n",
      " [23 24 25]\n",
      " [30 31 32]]\n"
     ]
    }
   ],
   "source": [
    "import numpy as np\n",
    "y = np.arange(42).reshape(6,7) # 6 rows and 7 columns 2D dimension array\n",
    "\n",
    "print (y)\n",
    "\n",
    "# passing a single index meaning row index\n",
    "print (y[0]) \n",
    "\n",
    "\n",
    "print ('------------- returning column values into one dmentsional array -------------')\n",
    "print (y[:, 0]) # row, column\n",
    "# passing empty row, and 4th column index to return column values\n",
    "print (y[:, 3]) # row, column\n",
    "\n",
    "\n",
    "print ('------------- returning single cell value  -------------')\n",
    "print (y[2, 3]) # row, column\n",
    "\n",
    "\n",
    "print ('------------- Get first three elements of 4th column  -------------')\n",
    "print (y[0:3, 3]) # row, column\n",
    "print (y[:3, 3]) # row, column\n",
    "\n",
    "\n",
    "\n",
    "print ('------------- Get a portion of the elements from selctive columns and rows from the matrix  -------------')\n",
    "print (y[1:4, 0:2])\n",
    "print (y[1:4, :2])\n",
    "print (y[2:5, 2:5])\n",
    "\n"
   ]
  },
  {
   "cell_type": "code",
   "execution_count": 15,
   "metadata": {},
   "outputs": [
    {
     "name": "stdout",
     "output_type": "stream",
     "text": [
      "------------- Get every second row from the starting from the first row from the matrix  -------------\n",
      "[[ 0  1  2  3  4  5  6]\n",
      " [14 15 16 17 18 19 20]\n",
      " [28 29 30 31 32 33 34]]\n",
      "[[ 0  1  2  3  4  5  6]\n",
      " [14 15 16 17 18 19 20]\n",
      " [28 29 30 31 32 33 34]]\n",
      "------------- Get every other column starting from the first column from the matrix  -------------\n",
      "[[ 0  2  4  6]\n",
      " [ 7  9 11 13]\n",
      " [14 16 18 20]\n",
      " [21 23 25 27]\n",
      " [28 30 32 34]\n",
      " [35 37 39 41]]\n",
      "[[ 0  2  4  6]\n",
      " [ 7  9 11 13]\n",
      " [14 16 18 20]\n",
      " [21 23 25 27]\n",
      " [28 30 32 34]\n",
      " [35 37 39 41]]\n"
     ]
    }
   ],
   "source": [
    "print ('------------- Get every second row from the starting from the first row from the matrix  -------------')\n",
    "print (y[0::2])\n",
    "print (y[::2])\n",
    "\n",
    "\n",
    "print ('------------- Get every other column starting from the first column from the matrix  -------------')\n",
    "print (y[:, ::2])\n",
    "print (y[:, 0:7:2])\n",
    "\n",
    "\n",
    "\n",
    "print (y[1:6:2, 1:6:2]) # row, Column and Interval\n"
   ]
  }
 ],
 "metadata": {
  "kernelspec": {
   "display_name": ".venv",
   "language": "python",
   "name": "python3"
  },
  "language_info": {
   "codemirror_mode": {
    "name": "ipython",
    "version": 3
   },
   "file_extension": ".py",
   "mimetype": "text/x-python",
   "name": "python",
   "nbconvert_exporter": "python",
   "pygments_lexer": "ipython3",
   "version": "3.11.3"
  },
  "orig_nbformat": 4
 },
 "nbformat": 4,
 "nbformat_minor": 2
}
