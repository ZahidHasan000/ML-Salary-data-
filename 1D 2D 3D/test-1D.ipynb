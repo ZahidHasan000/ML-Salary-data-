{
 "cells": [
  {
   "cell_type": "code",
   "execution_count": 1,
   "metadata": {},
   "outputs": [
    {
     "name": "stdout",
     "output_type": "stream",
     "text": [
      "Collecting numpy\n",
      "  Using cached numpy-1.24.3-cp311-cp311-win_amd64.whl (14.8 MB)\n",
      "Installing collected packages: numpy\n",
      "Successfully installed numpy-1.24.3\n"
     ]
    }
   ],
   "source": [
    "!pip install numpy"
   ]
  },
  {
   "cell_type": "code",
   "execution_count": 2,
   "metadata": {},
   "outputs": [],
   "source": [
    "import numpy as np\n",
    "\n",
    "x = np.array([2,5,1,9,0,3,8,11,-4,-3,-8,6,10])"
   ]
  },
  {
   "attachments": {},
   "cell_type": "markdown",
   "metadata": {},
   "source": [
    "## Basic Indexing"
   ]
  },
  {
   "cell_type": "code",
   "execution_count": 4,
   "metadata": {},
   "outputs": [
    {
     "name": "stdout",
     "output_type": "stream",
     "text": [
      "2, 9, 8\n"
     ]
    }
   ],
   "source": [
    "print(str(x[0]) + ', ' + str(x[3]) + ', ' + str(x[6]))"
   ]
  },
  {
   "attachments": {},
   "cell_type": "markdown",
   "metadata": {},
   "source": [
    "## Basic Slicing\n",
    "\n",
    "#### Here <b style='color:blue; background:cornsilk;'>1</b> is the lower limit and <b style='color:blue; background:cornsilk;'>7</b> is the upper limit.  Output array starts from the element of <b style='color:blue; background:cornsilk;'>index 1 to 7</b>, lower limit included and upper limit excluded.  That means it includes the element in index 1 but does not include the element in index 7."
   ]
  },
  {
   "cell_type": "code",
   "execution_count": 5,
   "metadata": {},
   "outputs": [
    {
     "name": "stdout",
     "output_type": "stream",
     "text": [
      "[5 1 9 0 3 8]\n"
     ]
    }
   ],
   "source": [
    "print(x[1:7])"
   ]
  },
  {
   "attachments": {},
   "cell_type": "markdown",
   "metadata": {},
   "source": [
    "## Slicing With Interval\n",
    "\n",
    "#### In this case, 2 is the starting point and 3 is the interval.  So the returning array stars from the element in index two.  After that it takes every third element of the array till the end.  "
   ]
  },
  {
   "cell_type": "code",
   "execution_count": 11,
   "metadata": {},
   "outputs": [
    {
     "name": "stdout",
     "output_type": "stream",
     "text": [
      "[ 2  5  1  9  0  3  8 11 -4 -3 -8  6 10]\n",
      "[ 1  3 -4  6]\n",
      "[ 8 -4 -8 10]\n",
      "[8 0 1 2]\n"
     ]
    }
   ],
   "source": [
    "print (x)\n",
    "\n",
    "print (x[2::3])\n",
    "\n",
    "# if we only want 3 elements\n",
    "x[2::3][0:3]\n",
    "\n",
    "# Interval Starting From The End or bottom of the list\n",
    "print(x[-7::2])\n",
    "\n",
    "# reverse interval\n",
    "print(x[-7::-2])"
   ]
  },
  {
   "attachments": {},
   "cell_type": "markdown",
   "metadata": {},
   "source": [
    "## Default Beginning and Ending\n"
   ]
  },
  {
   "cell_type": "code",
   "execution_count": 7,
   "metadata": {},
   "outputs": [
    {
     "name": "stdout",
     "output_type": "stream",
     "text": [
      "[2 5 1 9]\n",
      "[ 0  3  8 11 -4 -3 -8  6 10]\n",
      "[ 2  5  1  9  0  3  8 11 -4 -3 -8  6 10]\n"
     ]
    }
   ],
   "source": [
    "# default begining or lower limit\n",
    "print (x[:4])\n",
    "\n",
    "# default ending or upper limit\n",
    "print (x[4:])\n",
    "\n",
    "# default beging and ending \n",
    "print (x[:])\n",
    "  "
   ]
  },
  {
   "attachments": {},
   "cell_type": "markdown",
   "metadata": {},
   "source": [
    "## Slicing With Interval and Both Upper and Lower Limit\n",
    "\n",
    "#### In x[1:7:2], 1 is the lower limit, 7 is upper limit and 2 in the interval.  Output starts in the element in index 1 and end in the index 7 but instead of outputting each element in between it outputs every second element as the interval is 2. "
   ]
  },
  {
   "cell_type": "code",
   "execution_count": 8,
   "metadata": {},
   "outputs": [
    {
     "name": "stdout",
     "output_type": "stream",
     "text": [
      "[5 9 3]\n"
     ]
    }
   ],
   "source": [
    "print (x[1:7:2])"
   ]
  }
 ],
 "metadata": {
  "kernelspec": {
   "display_name": ".venv",
   "language": "python",
   "name": "python3"
  },
  "language_info": {
   "codemirror_mode": {
    "name": "ipython",
    "version": 3
   },
   "file_extension": ".py",
   "mimetype": "text/x-python",
   "name": "python",
   "nbconvert_exporter": "python",
   "pygments_lexer": "ipython3",
   "version": "3.11.3"
  },
  "orig_nbformat": 4
 },
 "nbformat": 4,
 "nbformat_minor": 2
}
